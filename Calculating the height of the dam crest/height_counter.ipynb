{
 "cells": [
  {
   "cell_type": "code",
   "execution_count": 49,
   "metadata": {},
   "outputs": [],
   "source": [
    "import math\n",
    "\n",
    "import pandas as pd\n",
    "import numpy as np\n",
    "import matplotlib.mlab as mlab\n",
    "import matplotlib.pyplot as plt\n",
    "import math"
   ]
  },
  {
   "cell_type": "code",
   "execution_count": 66,
   "metadata": {},
   "outputs": [],
   "source": [
    "'''#This is the case of Baige landslide dam\n",
    "#a is the sliding surface dip-angle.\n",
    "a=math.atan(0.6488)*180/math.pi\n",
    "# χ as a function of the sliding surface dip-angle\n",
    "x=0.57+0.51*(1+np.exp((a-34)/10.5))**(-1)\n",
    "#theta decline of the vallage\n",
    "theta=0.05973\n",
    "#λ is expressed as a function of the valley bed inclination\n",
    "lamda=0.37+1.1*math.tan(theta*math.pi/180.0)\n",
    "fai=35.5\n",
    "'''\n",
    "#Hongshiyan\n",
    "#a is the sliding surface dip-angle.\n",
    "a=46.2\n",
    "# χ as a function of the sliding surface dip-angle\n",
    "x=0.57+0.51*(1+np.exp((a-34)/10.5))**(-1)\n",
    "#theta decline of the vallage\n",
    "theta=3.02\n",
    "#λ is expressed as a function of the valley bed inclination\n",
    "lamda=0.37+1.1*math.tan(theta*math.pi/180.0)\n",
    "fai=35.5\n",
    "\n"
   ]
  },
  {
   "cell_type": "code",
   "execution_count": 71,
   "metadata": {},
   "outputs": [
    {
     "data": {
      "text/plain": [
       "'\\nh0=2860#2921.986 \\nh1=2944#2909# 开始   2931\\nh=h1-h0\\nl=567##567.992\\n#real repose angle\\nbeta_dc=fai*x\\nbeta_d=beta_dc-theta\\n#Lb on herizon\\nLbh=(l-(l*math.tan(beta_dc*math.pi/180.0)-h)/(2*math.tan(beta_dc*math.pi/180.0)))*2\\nLb=Lbh*math.sin(beta_dc*math.pi/180.0)/(math.sin((180-beta_dc-theta)*math.pi/180.0))\\nH=lamda*math.tan(beta_d*math.pi/180.0)*Lb'"
      ]
     },
     "execution_count": 71,
     "metadata": {},
     "output_type": "execute_result"
    }
   ],
   "source": [
    "h0=1111\n",
    "h1=1170\n",
    "h=h1-h0\n",
    "l=737.4##567.992\n",
    "#real repose angle\n",
    "beta_dc=fai*x\n",
    "beta_d=beta_dc-theta\n",
    "#Lb on herizon\n",
    "Lbh=(l-(l*math.tan(beta_dc*math.pi/180.0)-h)/(2*math.tan(beta_dc*math.pi/180.0)))*2\n",
    "Lb=Lbh*math.sin(beta_dc*math.pi/180.0)/(math.sin((180-beta_dc-theta)*math.pi/180.0))\n",
    "H=lamda*math.tan(beta_d*math.pi/180.0)*Lb\n",
    "\n"
   ]
  },
  {
   "cell_type": "code",
   "execution_count": 72,
   "metadata": {},
   "outputs": [],
   "source": [
    "hc=math.sin(theta*math.pi/180.0)*(Lb-H*math.tan(theta*math.pi/180.0)-H*math.tan((90-theta-beta_dc)*math.pi/180.0))\n",
    "#hc2=(Lb-H*(math.sin((theta+90-beta_dc-theta)*math.pi/180.0)/math.sin((beta_dc+theta)*math.pi/180.0)))*math.sin(theta*math.pi/180.0)\n",
    "hv=hc+H/math.cos(theta*math.pi/180.0)"
   ]
  },
  {
   "cell_type": "code",
   "execution_count": 73,
   "metadata": {},
   "outputs": [
    {
     "data": {
      "text/plain": [
       "105.70312574671165"
      ]
     },
     "execution_count": 73,
     "metadata": {},
     "output_type": "execute_result"
    }
   ],
   "source": [
    "print('The lowest height of the landslide dam crest',hv*0.63+5.59)#lowest height "
   ]
  }
 ],
 "metadata": {
  "interpreter": {
   "hash": "bb4834c61ddb4b93f056776f714d7ae297aa78aa645162a0fe2e193c042302b0"
  },
  "kernelspec": {
   "display_name": "Python 3.8.8 64-bit ('base': conda)",
   "name": "python3"
  },
  "language_info": {
   "codemirror_mode": {
    "name": "ipython",
    "version": 3
   },
   "file_extension": ".py",
   "mimetype": "text/x-python",
   "name": "python",
   "nbconvert_exporter": "python",
   "pygments_lexer": "ipython3",
   "version": "3.8.8"
  },
  "orig_nbformat": 4
 },
 "nbformat": 4,
 "nbformat_minor": 2
}
